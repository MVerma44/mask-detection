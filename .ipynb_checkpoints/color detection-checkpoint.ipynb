{
 "cells": [
  {
   "cell_type": "code",
   "execution_count": 2,
   "id": "eeb22069",
   "metadata": {},
   "outputs": [],
   "source": [
    "import pickle\n",
    "import cv2\n",
    "import screen_brightness_control as sbc"
   ]
  },
  {
   "cell_type": "code",
   "execution_count": 3,
   "id": "cef2b968",
   "metadata": {},
   "outputs": [],
   "source": [
    "names = {0 : 'No Mask', 1 : 'Mask'}"
   ]
  },
  {
   "cell_type": "code",
   "execution_count": 4,
   "id": "9764629e",
   "metadata": {},
   "outputs": [],
   "source": [
    "with open('color_model', 'rb') as f:\n",
    "    svm = pickle.load(f)"
   ]
  },
  {
   "cell_type": "code",
   "execution_count": 20,
   "id": "c18c1be0",
   "metadata": {},
   "outputs": [
    {
     "data": {
      "text/plain": [
       "30"
      ]
     },
     "execution_count": 20,
     "metadata": {},
     "output_type": "execute_result"
    }
   ],
   "source": [
    "\n",
    "\n",
    "pre"
   ]
  },
  {
   "cell_type": "code",
   "execution_count": null,
   "id": "6a563333",
   "metadata": {},
   "outputs": [],
   "source": []
  },
  {
   "cell_type": "code",
   "execution_count": 21,
   "id": "fc34e40c",
   "metadata": {},
   "outputs": [],
   "source": [
    "pre = sbc.get_brightness()\n",
    "sbc.set_brightness(100)\n",
    "data = cv2.CascadeClassifier('data.xml')\n",
    "cap = cv2.VideoCapture(0)\n",
    "while cap.isOpened():\n",
    "    ret, frame = cap.read(cv2.IMREAD_GRAYSCALE)\n",
    "#     frame = change_brightness(frame, value=75)\n",
    "\n",
    "#     frame = cv2.addWeighted(frame, 2, np.ones(frame.shape, frame.dtype), 0, 10)\n",
    "#     gray = cv2.cvtColor(frame, cv2.COLOR_BGR2GRAY)\n",
    "\n",
    "    if ret:\n",
    "        face = data.detectMultiScale(frame, scaleFactor=1.1, minNeighbors=5)\n",
    "        \n",
    "        for x, y, w, h in face:\n",
    "            cv2.rectangle(frame, (x, y), (x+w, y+h), (255, 255, 0), 2)\n",
    "            face_array = frame[y:y+h, x:x+w, :]\n",
    "            face_array = cv2.resize(face_array, (100, 100))\n",
    "            face_array = face_array.reshape(1, -1)\n",
    "#             face_array = pca.transform(face_array)\n",
    "            pred = svm.predict(face_array)[0]\n",
    "            n = names[int(pred)]\n",
    "#             print(n)\n",
    "            cv2.putText(frame, n, (x+15, y-10), cv2.FONT_HERSHEY_COMPLEX, 1, (255,255,0),2,cv2.LINE_AA)\n",
    "        cv2.imshow('video', frame)\n",
    "        \n",
    "        if cv2.waitKey(1) & 0xff == 27:\n",
    "            break\n",
    "    \n",
    "cap.release()\n",
    "cv2.destroyAllWindows()\n",
    "sbc.set_brightness(pre)"
   ]
  },
  {
   "cell_type": "code",
   "execution_count": 22,
   "id": "7f732612",
   "metadata": {},
   "outputs": [
    {
     "ename": "NameError",
     "evalue": "name 'pickle' is not defined",
     "output_type": "error",
     "traceback": [
      "\u001b[1;31m---------------------------------------------------------------------------\u001b[0m",
      "\u001b[1;31mNameError\u001b[0m                                 Traceback (most recent call last)",
      "\u001b[1;32m<ipython-input-22-befb25ce473b>\u001b[0m in \u001b[0;36m<module>\u001b[1;34m\u001b[0m\n\u001b[0;32m      1\u001b[0m \u001b[1;32mwith\u001b[0m \u001b[0mopen\u001b[0m\u001b[1;33m(\u001b[0m\u001b[1;34m'color_model'\u001b[0m\u001b[1;33m,\u001b[0m \u001b[1;34m'wb'\u001b[0m\u001b[1;33m)\u001b[0m \u001b[1;32mas\u001b[0m \u001b[0mf\u001b[0m\u001b[1;33m:\u001b[0m\u001b[1;33m\u001b[0m\u001b[1;33m\u001b[0m\u001b[0m\n\u001b[1;32m----> 2\u001b[1;33m     \u001b[0mpickle\u001b[0m\u001b[1;33m.\u001b[0m\u001b[0mdump\u001b[0m\u001b[1;33m(\u001b[0m\u001b[0msvm\u001b[0m\u001b[1;33m,\u001b[0m \u001b[0mf\u001b[0m\u001b[1;33m)\u001b[0m\u001b[1;33m\u001b[0m\u001b[1;33m\u001b[0m\u001b[0m\n\u001b[0m",
      "\u001b[1;31mNameError\u001b[0m: name 'pickle' is not defined"
     ]
    }
   ],
   "source": [
    "with open('color_model', 'wb') as f:\n",
    "    pickle.dump(svm, f)"
   ]
  },
  {
   "cell_type": "code",
   "execution_count": null,
   "id": "fc397ece",
   "metadata": {},
   "outputs": [],
   "source": []
  },
  {
   "cell_type": "code",
   "execution_count": null,
   "id": "458f9aa3",
   "metadata": {},
   "outputs": [],
   "source": []
  },
  {
   "cell_type": "code",
   "execution_count": null,
   "id": "d26493e1",
   "metadata": {},
   "outputs": [],
   "source": []
  },
  {
   "cell_type": "code",
   "execution_count": null,
   "id": "036aca85",
   "metadata": {},
   "outputs": [],
   "source": []
  },
  {
   "cell_type": "code",
   "execution_count": null,
   "id": "48ef76f0",
   "metadata": {},
   "outputs": [],
   "source": []
  },
  {
   "cell_type": "code",
   "execution_count": null,
   "id": "a72c1bf5",
   "metadata": {},
   "outputs": [],
   "source": []
  }
 ],
 "metadata": {
  "kernelspec": {
   "display_name": "Python 3",
   "language": "python",
   "name": "python3"
  },
  "language_info": {
   "codemirror_mode": {
    "name": "ipython",
    "version": 3
   },
   "file_extension": ".py",
   "mimetype": "text/x-python",
   "name": "python",
   "nbconvert_exporter": "python",
   "pygments_lexer": "ipython3",
   "version": "3.8.8"
  }
 },
 "nbformat": 4,
 "nbformat_minor": 5
}
