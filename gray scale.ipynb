{
 "cells": [
  {
   "cell_type": "code",
   "execution_count": 1,
   "id": "721dc140",
   "metadata": {},
   "outputs": [],
   "source": [
    "import cv2\n",
    "import pickle"
   ]
  },
  {
   "cell_type": "code",
   "execution_count": 2,
   "id": "96c3cfc8",
   "metadata": {},
   "outputs": [],
   "source": [
    "with open('model', 'rb') as f:\n",
    "    svm = pickle.load(f)"
   ]
  },
  {
   "cell_type": "code",
   "execution_count": 3,
   "id": "3e7456ea",
   "metadata": {},
   "outputs": [],
   "source": [
    "names = {0 : 'No Mask', 1 : 'Mask'}"
   ]
  },
  {
   "cell_type": "code",
   "execution_count": 4,
   "id": "1e2d039b",
   "metadata": {},
   "outputs": [
    {
     "data": {
      "text/plain": [
       "20"
      ]
     },
     "execution_count": 4,
     "metadata": {},
     "output_type": "execute_result"
    }
   ],
   "source": [
    "import screen_brightness_control as sbc\n",
    "pre = sbc.get_brightness()\n",
    "pre"
   ]
  },
  {
   "cell_type": "code",
   "execution_count": 5,
   "id": "4a97699d",
   "metadata": {},
   "outputs": [],
   "source": [
    "sbc.set_brightness(100)\n",
    "data = cv2.CascadeClassifier('data.xml')\n",
    "cap = cv2.VideoCapture(0)\n",
    "while cap.isOpened():\n",
    "    ret, frame = cap.read(cv2.IMREAD_GRAYSCALE)\n",
    "#     frame = change_brightness(frame, value=75)\n",
    "\n",
    "\n",
    "\n",
    "#     frame = cv2.addWeighted(frame, 2, np.ones(frame.shape, frame.dtype), 0, 10)\n",
    "    gray = cv2.cvtColor(frame, cv2.COLOR_BGR2GRAY)\n",
    "\n",
    "    if ret:\n",
    "        face = data.detectMultiScale(gray, scaleFactor=1.1, minNeighbors=5)\n",
    "        \n",
    "        for x, y, w, h in face:\n",
    "            cv2.rectangle(gray, (x, y), (x+w, y+h), (255, 255, 0), 2)\n",
    "            face_array = gray[y:y+h, x:x+w]\n",
    "            face_array = cv2.resize(face_array, (100, 100))\n",
    "            face_array = face_array.reshape(1, -1)\n",
    "#             face_array = pca.transform(face_array)\n",
    "            pred = svm.predict(face_array)[0]\n",
    "            n = names[int(pred)]\n",
    "#             print(n)\n",
    "            cv2.putText(gray, n, (x+15, y-10), cv2.FONT_HERSHEY_COMPLEX, 1, (255,255,0),2,cv2.LINE_AA)\n",
    "        cv2.imshow('video', gray)\n",
    "        \n",
    "        if cv2.waitKey(1) & 0xff == 27:\n",
    "            break\n",
    "    \n",
    "cap.release()\n",
    "cv2.destroyAllWindows()\n",
    "sbc.set_brightness(pre)"
   ]
  },
  {
   "cell_type": "code",
   "execution_count": null,
   "id": "6ae5a68a",
   "metadata": {},
   "outputs": [],
   "source": []
  },
  {
   "cell_type": "code",
   "execution_count": null,
   "id": "be3e59a7",
   "metadata": {},
   "outputs": [],
   "source": []
  }
 ],
 "metadata": {
  "kernelspec": {
   "display_name": "Python 3",
   "language": "python",
   "name": "python3"
  },
  "language_info": {
   "codemirror_mode": {
    "name": "ipython",
    "version": 3
   },
   "file_extension": ".py",
   "mimetype": "text/x-python",
   "name": "python",
   "nbconvert_exporter": "python",
   "pygments_lexer": "ipython3",
   "version": "3.8.8"
  }
 },
 "nbformat": 4,
 "nbformat_minor": 5
}
